{
 "cells": [
  {
   "cell_type": "code",
   "execution_count": 208,
   "metadata": {},
   "outputs": [],
   "source": [
    "from bs4 import BeautifulSoup\n",
    "import requests\n",
    "import smtplib\n",
    "import time\n",
    "import datetime\n"
   ]
  },
  {
   "cell_type": "code",
   "execution_count": 209,
   "metadata": {},
   "outputs": [
    {
     "data": {
      "text/plain": [
       "'\\n             Redmi Note 12 5G (Matte Black,8GB RAM, 256GB Storage)\\n            '"
      ]
     },
     "execution_count": 209,
     "metadata": {},
     "output_type": "execute_result"
    }
   ],
   "source": [
    "# connet to website\n",
    "URL=\"https://www.amazon.in/Redmi-Matte-Black-256GB-Storage/dp/B0BZWCJDRB/ref=psdc_1805560031_t3_B0BY8MCQ9S?th=1\"\n",
    "headers = {\"User-Agent\": \"Mozilla/5.0 (Windows NT 10.0; Win64; x64) AppleWebKit/537.36 (KHTML, like Gecko) Chrome/116.0.0.0 Safari/537.36\", \"Accept-Encoding\":\"gzip, deflate\", \"Accept\":\"text/html,application/xhtml+xml,application/xml;q=0.9,*/*;q=0.8\", \"DNT\":\"1\",\"Connection\":\"close\", \"Upgrade-Insecure-Requests\":\"1\"}\n",
    "page=requests.get(URL,headers=headers)\n",
    "Soup1=BeautifulSoup(page.content,\"html.parser\")\n",
    "Soup2=BeautifulSoup(Soup1.prettify(),\"html.parser\")\n",
    "title=Soup2.find(id=\"productTitle\").get_text()\n",
    "title"
   ]
  },
  {
   "cell_type": "code",
   "execution_count": 210,
   "metadata": {},
   "outputs": [
    {
     "data": {
      "text/plain": [
       "'20,999'"
      ]
     },
     "execution_count": 210,
     "metadata": {},
     "output_type": "execute_result"
    }
   ],
   "source": [
    "price=Soup2.find(id=\"corePriceDisplay_desktop_feature_div\").get_text()\n",
    "price=price.strip()[35:41]\n",
    "price\n"
   ]
  },
  {
   "cell_type": "code",
   "execution_count": 211,
   "metadata": {},
   "outputs": [],
   "source": [
    "display=Soup2.find(id=\"feature-bullets\").get_text()\n",
    "display=display.strip()[53:109]"
   ]
  },
  {
   "cell_type": "code",
   "execution_count": 212,
   "metadata": {},
   "outputs": [],
   "source": [
    "processor=Soup2.find(id=\"feature-bullets\").get_text()\n",
    "processor=processor.strip()[205:249]"
   ]
  },
  {
   "cell_type": "code",
   "execution_count": 213,
   "metadata": {},
   "outputs": [],
   "source": [
    "storage=Soup2.find(id=\"feature-bullets\").get_text()\n",
    "storage=storage.strip()[624:676]"
   ]
  },
  {
   "cell_type": "code",
   "execution_count": 214,
   "metadata": {},
   "outputs": [],
   "source": [
    "Battery=Soup2.find(id=\"feature-bullets\").get_text()\n",
    "Battery=Battery.strip()[494:538]"
   ]
  },
  {
   "cell_type": "code",
   "execution_count": 215,
   "metadata": {},
   "outputs": [],
   "source": [
    "camera=Soup2.find(id=\"feature-bullets\").get_text()\n",
    "camera=camera.strip()[359:453]"
   ]
  },
  {
   "cell_type": "code",
   "execution_count": 216,
   "metadata": {},
   "outputs": [
    {
     "data": {
      "text/plain": [
       "'Redmi Note 12 5G (Matte Black,8GB RAM, 256GB Storage)'"
      ]
     },
     "execution_count": 216,
     "metadata": {},
     "output_type": "execute_result"
    }
   ],
   "source": [
    "title=title.strip()\n",
    "title"
   ]
  },
  {
   "cell_type": "code",
   "execution_count": 217,
   "metadata": {},
   "outputs": [
    {
     "data": {
      "text/plain": [
       "datetime.date(2023, 8, 23)"
      ]
     },
     "execution_count": 217,
     "metadata": {},
     "output_type": "execute_result"
    }
   ],
   "source": [
    "today=datetime.date.today()\n",
    "today"
   ]
  },
  {
   "cell_type": "code",
   "execution_count": 218,
   "metadata": {},
   "outputs": [],
   "source": [
    "import csv\n",
    "header=['Title','Price','Date','Processor','Display','Storage','Camera','Battery']\n",
    "data=[title,price,today,processor,display,storage,camera,Battery]\n",
    "with open(\"amazonscrapper.csv\",'w',newline='', encoding='utf-8') as f:\n",
    "    writer=csv.writer(f)\n",
    "    writer.writerow(header)\n",
    "    writer.writerow(data)"
   ]
  },
  {
   "cell_type": "code",
   "execution_count": 219,
   "metadata": {},
   "outputs": [
    {
     "data": {
      "text/html": [
       "<div>\n",
       "<style scoped>\n",
       "    .dataframe tbody tr th:only-of-type {\n",
       "        vertical-align: middle;\n",
       "    }\n",
       "\n",
       "    .dataframe tbody tr th {\n",
       "        vertical-align: top;\n",
       "    }\n",
       "\n",
       "    .dataframe thead th {\n",
       "        text-align: right;\n",
       "    }\n",
       "</style>\n",
       "<table border=\"1\" class=\"dataframe\">\n",
       "  <thead>\n",
       "    <tr style=\"text-align: right;\">\n",
       "      <th></th>\n",
       "      <th>Title</th>\n",
       "      <th>Price</th>\n",
       "      <th>Date</th>\n",
       "      <th>Processor</th>\n",
       "      <th>Display</th>\n",
       "      <th>Storage</th>\n",
       "      <th>Camera</th>\n",
       "      <th>Battery</th>\n",
       "    </tr>\n",
       "  </thead>\n",
       "  <tbody>\n",
       "    <tr>\n",
       "      <th>0</th>\n",
       "      <td>Redmi Note 12 5G (Matte Black,8GB RAM, 256GB S...</td>\n",
       "      <td>20,999</td>\n",
       "      <td>2023-08-23</td>\n",
       "      <td>Processor: Snapdragon 4 Gen1 6nm Octa-core</td>\n",
       "      <td>Display: FHD+ AMOLED (1080x2400) Display with ...</td>\n",
       "      <td>Memory, Storage &amp; SIM: 8GB RAM | 256GB UFS 2....</td>\n",
       "      <td>Camera: 48MP AI Triple camera setup wi...</td>\n",
       "      <td>Battery: 5000 mAh large battery w</td>\n",
       "    </tr>\n",
       "  </tbody>\n",
       "</table>\n",
       "</div>"
      ],
      "text/plain": [
       "                                               Title   Price        Date  \\\n",
       "0  Redmi Note 12 5G (Matte Black,8GB RAM, 256GB S...  20,999  2023-08-23   \n",
       "\n",
       "                                      Processor  \\\n",
       "0   Processor: Snapdragon 4 Gen1 6nm Octa-core    \n",
       "\n",
       "                                             Display  \\\n",
       "0  Display: FHD+ AMOLED (1080x2400) Display with ...   \n",
       "\n",
       "                                             Storage  \\\n",
       "0   Memory, Storage & SIM: 8GB RAM | 256GB UFS 2....   \n",
       "\n",
       "                                              Camera  \\\n",
       "0          Camera: 48MP AI Triple camera setup wi...   \n",
       "\n",
       "                                        Battery  \n",
       "0             Battery: 5000 mAh large battery w  "
      ]
     },
     "execution_count": 219,
     "metadata": {},
     "output_type": "execute_result"
    }
   ],
   "source": [
    "import pandas as pd \n",
    "df=pd.read_csv(r'amazonscrapper.csv')\n",
    "df"
   ]
  },
  {
   "cell_type": "code",
   "execution_count": 220,
   "metadata": {},
   "outputs": [],
   "source": [
    "# now we are appending data to csv\n",
    "with open(\"amazonscrapper.csv\",'a+',newline='', encoding='utf-8') as f:\n",
    "    writer=csv.writer(f)\n",
    "    writer.writerow(data)"
   ]
  },
  {
   "cell_type": "code",
   "execution_count": 221,
   "metadata": {},
   "outputs": [],
   "source": [
    "# If uou want to try sending yourself an email (just for fun) when a price hits below a certain level you can try it\n",
    "# out with this script\n",
    "\n",
    "def send_mail():\n",
    "    server = smtplib.SMTP_SSL('smtp.gmail.com',465)\n",
    "    server.ehlo()\n",
    "    #server.starttls()\n",
    "    server.ehlo()\n",
    "    server.login('ambika2003.devi@gmail.com','xxxxxxxxxxxxxx')\n",
    "    \n",
    "    subject = \"The phone you want is below 14k! Now is your chance to buy!\"\n",
    "    body = \"Ambika, This is the moment we have been waiting for. \"\n",
    "   \n",
    "    msg = f\"Subject: {subject}\\n\\n{body}\"\n",
    "    \n",
    "    server.sendmail(\n",
    "        'ambika2003.devi@gmail.com',\n",
    "        msg\n",
    "     \n",
    "    )"
   ]
  },
  {
   "cell_type": "code",
   "execution_count": 222,
   "metadata": {},
   "outputs": [],
   "source": [
    "# for automate this process we will use function\n",
    "def check_price():\n",
    "    URL=\"https://www.amazon.in/Redmi-Matte-Black-256GB-Storage/dp/B0BZWCJDRB/ref=psdc_1805560031_t3_B0BY8MCQ9S?th=1\"\n",
    "    headers = {\"User-Agent\": \"Mozilla/5.0 (Windows NT 10.0; Win64; x64) AppleWebKit/537.36 (KHTML, like Gecko) Chrome/116.0.0.0 Safari/537.36\", \"Accept-Encoding\":\"gzip, deflate\", \"Accept\":\"text/html,application/xhtml+xml,application/xml;q=0.9,*/*;q=0.8\", \"DNT\":\"1\",\"Connection\":\"close\", \"Upgrade-Insecure-Requests\":\"1\"}\n",
    "    page=requests.get(URL,headers=headers)\n",
    "    Soup1=BeautifulSoup(page.content,\"html.parser\")\n",
    "    Soup2=BeautifulSoup(Soup1.prettify(),\"html.parser\")\n",
    "    title=Soup2.find(id=\"productTitle\").get_text()\n",
    "    title\n",
    "    title=title.strip()\n",
    "    price=Soup2.find(id=\"corePriceDisplay_desktop_feature_div\").get_text()\n",
    "    price=price.strip()[35:41]\n",
    "    import datetime\n",
    "    today=datetime.date.today()\n",
    "    import csv\n",
    "    header=['Title','Price','date']\n",
    "    data=[title,price,today]\n",
    "    with open(\"amazonscrapper.csv\",'a+',newline='', encoding='utf-8') as f:\n",
    "        writer=csv.writer(f)\n",
    "        writer.writerow(data)\n",
    "    if(price<14000):\n",
    "        send_mail()   "
   ]
  }
 ],
 "metadata": {
  "kernelspec": {
   "display_name": "Python 3",
   "language": "python",
   "name": "python3"
  },
  "language_info": {
   "codemirror_mode": {
    "name": "ipython",
    "version": 3
   },
   "file_extension": ".py",
   "mimetype": "text/x-python",
   "name": "python",
   "nbconvert_exporter": "python",
   "pygments_lexer": "ipython3",
   "version": "3.11.4"
  },
  "orig_nbformat": 4
 },
 "nbformat": 4,
 "nbformat_minor": 2
}
